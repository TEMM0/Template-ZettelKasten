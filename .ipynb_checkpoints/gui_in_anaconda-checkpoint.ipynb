{
 "cells": [
  {
   "cell_type": "code",
   "execution_count": 1,
   "metadata": {},
   "outputs": [
    {
     "name": "stdout",
     "output_type": "stream",
     "text": [
      "* Error performing wm_overrideredirect *\n"
     ]
    },
    {
     "ename": "SystemExit",
     "evalue": "0",
     "output_type": "error",
     "traceback": [
      "An exception has occurred, use %tb to see the full traceback.\n",
      "\u001b[0;31mSystemExit\u001b[0m\u001b[0;31m:\u001b[0m 0\n"
     ]
    },
    {
     "name": "stderr",
     "output_type": "stream",
     "text": [
      "/opt/anaconda3/lib/python3.8/site-packages/IPython/core/interactiveshell.py:3426: UserWarning: To exit: use 'exit', 'quit', or Ctrl-D.\n",
      "  warn(\"To exit: use 'exit', 'quit', or Ctrl-D.\", stacklevel=1)\n"
     ]
    }
   ],
   "source": [
    "import PySimpleGUI as sg\n",
    "import time\n",
    "import os \n",
    "import sys\n",
    "\n",
    "\n",
    "class Note:\n",
    "  def __init__(self):\n",
    "    gtmtime=time.gmtime(time.time())\n",
    "    year = str(int(gtmtime.tm_year))\n",
    "    month=str(int(gtmtime.tm_mon))\n",
    "    day=str(int(gtmtime.tm_mday))\n",
    "    hour=str(int(gtmtime.tm_hour))\n",
    "    minutes=str(int(gtmtime.tm_min))\n",
    "    seconds=str(int(gtmtime.tm_sec))\n",
    "    self.code=year+month+day+hour+minutes+seconds;      \n",
    "  \n",
    "  def write_to_file(self, title):\n",
    "    self.title=title;\n",
    "    file = open(self.code+\" - \"+self.title+\".md\", \"w\")\n",
    "    file.write(\"---\\n\")\n",
    "    file.write(\"id: \"+self.code+\"\\n\")\n",
    "    file.write(\"title: \"+self.title+\"\\n\")\n",
    "    file.write(\"keywords: \\n\"+\"#keyword1\\n\");\n",
    "    file.write(\"---\\n\")\n",
    "    file.write(\"Zettel Link: [[zettel_url]]\\n\")\n",
    "    file.write(\"Citation - Your idea\\n\")\n",
    "    file.write(\"Outside Link: \"+ \"[VK](https://vk.com/)\\n\")\n",
    "    file.close()\n",
    "    \n",
    "\n",
    "metafile = open(\"metadata\", \"w\")\n",
    "metafile.close()\n",
    "\n",
    "metafile = open(\"metadata\", \"r\")\n",
    "saved_vault = metafile.readline()\n",
    "metafile.close()\n",
    "vault_path = sg.popup_get_folder('Choose location of vault', default_path=saved_vault)\n",
    "\n",
    "if not vault_path:\n",
    "    sys.exit(0)\n",
    "\n",
    "metafile = open(\"metadata\", \"w\")\n",
    "print(vault_path)\n",
    "metafile.write(vault_path)\n",
    "metafile.close()\n",
    "\n",
    "os.chdir(vault_path)\n",
    "\n",
    "# Define the window's contents\n",
    "layout = [[sg.Text(\"Please, enter name of the zettel-note\")],\n",
    "          [sg.Input(key='-INPUT-')],\n",
    "          [sg.Text(size=(100,1), key='-OUTPUT-')],\n",
    "          [sg.Button('Ok'), sg.Button('Quit')]]\n",
    "\n",
    "# Create the window\n",
    "window = sg.Window('Window Title', layout)\n",
    "\n",
    "# Display and interact with the Window using an Event Loop\n",
    "while True:\n",
    "    event, values = window.read()\n",
    "    if event == 'Ok':\n",
    "      Zettel=Note()\n",
    "      Zettel.write_to_file(str(values['-INPUT-']))\n",
    "      del Zettel\n",
    "    # See if user wants to quit or window was closed\n",
    "    if event == sg.WINDOW_CLOSED or event == 'Quit':\n",
    "        break\n",
    "    # Output a message to the window\n",
    "    window['-OUTPUT-'].update('Success, ' + values['-INPUT-'] + \" was created\")\n",
    "\n",
    "# Finish up by removing from the screen\n",
    "window.close()"
   ]
  }
 ],
 "metadata": {
  "kernelspec": {
   "display_name": "Python 3",
   "language": "python",
   "name": "python3"
  },
  "language_info": {
   "codemirror_mode": {
    "name": "ipython",
    "version": 3
   },
   "file_extension": ".py",
   "mimetype": "text/x-python",
   "name": "python",
   "nbconvert_exporter": "python",
   "pygments_lexer": "ipython3",
   "version": "3.8.5"
  }
 },
 "nbformat": 4,
 "nbformat_minor": 4
}
